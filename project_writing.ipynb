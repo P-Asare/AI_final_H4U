{
 "cells": [
  {
   "cell_type": "markdown",
   "metadata": {},
   "source": [
    "<img src=\"https://imgs.search.brave.com/nAN7oz_7Lp8wj8rE-mskHnfOvhevF5v56ZXkqOwjbKc/rs:fit:500:0:0:0/g:ce/aHR0cHM6Ly9zMy5l/dS13ZXN0LTMuYW1h/em9uYXdzLmNvbS9t/b292aWpvYi5wcm9k/LzI0NjUyOTAvbGdf/Y2VzaS1qYXVuZS5w/bmc\" style=\"height:100px;\">\n",
    "\n",
    "\n",
    "# <center> <strong> Project AI for HumanForYou </center>\n",
    "\n",
    "# <center> Delivrable\n",
    "\n",
    "**Group 2** :\n",
    "\n",
    "- ASAP\n",
    "- Ethan \n",
    "- Adnan CYUSA\n",
    "- Oussama B\n",
    "\n",
    " Date : 17/12/24"
   ]
  },
  {
   "cell_type": "markdown",
   "metadata": {},
   "source": [
    "# <center> Introduction\n",
    "\n",
    "## Context \n",
    "HumanForYou, an India-based pharmaceutical company with around 4,000 employees, is grappling with a 15% annual turnover rate. This high turnover is causing project delays, damaging the company's reputation, and necessitating a large HR department to continuously recruit replacements. Additionally, the time and resources spent on training new employees lead to productivity losses. Recognizing these issues, the management has tasked data us with identifying the key factors driving this turnover and developing models to suggest areas for improvement. The ultimate aim is to implement strategies that enhance employee retention, thereby mitigating the negative impacts of high turnover.\n",
    "\n",
    "## Constraints\n",
    "- Data (Incomplete, Biais, etc.)\n",
    "- Ethical\n",
    "- AI Model\n",
    "- Time constraint\n",
    "\n",
    "## Issue\n",
    "\n",
    "How can AI models assist in reducing employee turn over rates for HumanAIForYou company?"
   ]
  },
  {
   "cell_type": "markdown",
   "metadata": {},
   "source": [
    "## Data Provided\n",
    "\n",
    "Below is the systemic data provided by the HR department at HumanForYou on each employee to aid in the analysis of turnover rates. The data is organized into several files, each containing different types of information:\n",
    "\n",
    "1. **General Employee Data (general_data.csv):**\n",
    "\n",
    "   - **Demographic Information:** Age, Gender, Marital Status, and Education level.\n",
    "   - **Job-Related Information:** Job Level, Job Role, Business Travel frequency, Distance from Home, Monthly Income, Number of Companies Worked, Years at Company, Years with Current Manager, Years Since Last Promotion, and Stock Option Level.\n",
    "   - **Performance and Training:** Percent Salary Hike, Standard Hours, Training Times Last Year, and Total Working Years.\n",
    "   - **Identifiers:** Employee ID and Employee Count.\n",
    "   - **Attrition:** Whether the employee left the company in 2016.\n",
    "\n",
    "2. **Manager Assessment Data (manager_survey_data.csv):**\n",
    "\n",
    "   - **Employee ID:** Identifier for each employee.\n",
    "   - **Job Involvement:** Assessment of the employee's involvement in their job (graded from 1 to 4).\n",
    "   - **Performance Rating:** Annual performance level (graded from 1 to 4).\n",
    "\n",
    "3. **Employee Survey Data (employee_survey_data.csv):**\n",
    "\n",
    "   - **Satisfaction Levels:** Employee feedback on work environment, job satisfaction, and work-life balance (graded from 1 to 4, with 'NA' for unanswered questions).\n",
    "\n",
    "4. **Working Hours Data:**\n",
    "\n",
    "   - **Check-In and Check-Out Times:** Data from clocking machines for the period from January 1 to December 31, 2015, representing average activity for all departments.\n",
    "\n",
    "This data set provides a comprehensive view of employee characteristics, job performance, satisfaction levels, and working hours, which will be of help in the analysis to identify key factors influencing the high turnover rate."
   ]
  },
  {
   "cell_type": "markdown",
   "metadata": {},
   "source": [
    "## <center> Solution\n",
    "\n",
    "This will include:\n",
    "- Data processing (importation, cleaning, statistical analysis)\n",
    "- Data splitting and training\n",
    "- Creation of model\n",
    "- Validation\n",
    "- Testing "
   ]
  },
  {
   "cell_type": "markdown",
   "metadata": {},
   "source": [
    "### 1. Data preprocessing\n",
    "- Data extraction\n",
    "- statistical analysis\n",
    "- cleaning"
   ]
  },
  {
   "cell_type": "markdown",
   "metadata": {},
   "source": [
    "## <center>Ethics\n",
    "\n",
    "### Issue\n",
    "How Can the Use of AI models Assist in reduction of employee turn over rates while respecting ethical principles?"
   ]
  },
  {
   "cell_type": "markdown",
   "metadata": {},
   "source": [
    "## Conclusion\n",
    "\n",
    "This project aimed to develop a robust machine learning solution by evaluating various algorithms and optimizing their performance for the given dataset. Through extensive experimentation and hyperparameter tuning, the model-building process uncovered key insights, ethical considerations, and final decisions to achieve an optimal balance between performance, interpretability, and fairness. After comparing multiple algorithms, including **Random Forest (RF)**, **Logistic Regression (LR)**, and **LightGBM (LGBM)**, Random Forest consistently outperformed the others. It demonstrated higher ROC-AUC and classification accuracy, better generalization during cross-validation, and greater stability in feature importance ranking, making it the final chosen model. While Logistic Regression provided strong baseline results and LightGBM offered speed and efficiency, Random Forest provided the best trade-off between performance and interpretability, aligning with the project’s goals.\n",
    "\n",
    "Throughout the project, significant ethical considerations guided every step. At the outset, steps were taken to anonymize sensitive data to ensure user privacy and compliance with data protection regulations such as GDPR. Feature selection was performed carefully to avoid introducing bias from demographic or socioeconomic indicators. Random Forest’s interpretability was another key factor, enabling transparent and explainable predictions to non-technical stakeholders, which advanced accountability. By selecting evaluation metrics like ROC-AUC to address class imbalance and F1-score to balance precision and recall, fairness was prioritized. Additionally, the use of cross-validation ensured unbiased and reliable model performance across different data subsets.\n",
    "\n",
    "Choosing Random Forest over Logistic Regression and LightGBM reflected a deliberate ethical decision to prioritize interpretability and fairness over marginal performance gains. Logistic Regression, while simple and interpretable, struggled to capture complex relationships in the data, leading to lower performance. LightGBM, although competitive in terms of predictive power and computational efficiency, introduced challenges in interpretability and required extensive hyperparameter tuning. Random Forest’s ability to balance high performance with clarity in feature importance made it the most practical and ethical choice.\n",
    "\n",
    "The final model, Random Forest, is well-suited for deployment, offering both high predictive accuracy and clear insights into feature importance. To maintain its fairness and reliability, continuous monitoring should be implemented to detect potential data drift and ensure the model remains unbiased as it is exposed to new data. Ethical oversight should also continue, with regular audits of predictions to confirm alignment with responsible AI practices. Future improvements could explore hybrid approaches, combining Random Forest with preprocessing strategies to further enhance performance without compromising interpretability.\n",
    "\n",
    "By adhering to ethical principles and prioritizing transparency throughout the project lifecycle, this initiative successfully delivered a machine learning solution that balances performance with real-world applicability and responsible AI practices."
   ]
  },
  {
   "cell_type": "markdown",
   "metadata": {},
   "source": [
    "## <center> Bibliographical references\n",
    "\n",
    "- [1] Employee attrition prediction(logistics regression). Ihtisham Mehmood. (11/2023). https://www.kaggle.com/code/ihtishammehmood/employee-attrition-prediction-logistics-regression\n",
    "\n",
    "- [2] A study of Artificial Intelligence impacts on Human Resource Digitalization in Industry 4.0. Umasankar Murugesan, Padmavathy Subramanian, Shefali Srivastava, Ashish Dwivedi. (05/2023).  https://www.sciencedirect.com/science/article/pii/S2772662223000899\n",
    "- [3] Everyday Ethics for Artificial Intelligence. IBM. (2022). https://www.ibm.com/watson/assets/duo/pdf/everydayethics.pdf\n",
    "- [4] Ethics & AI: A Systematic Review on Ethical Concerns and Related Strategies for Designing with AI in Healthcare (2020).\n",
    "- [5] Artificial Intelligence (AI) Ethics: What It Is and Why It Matters (2020)\n",
    "- [6] Ethical Considerations in AI Addressing Bias and Fairness in Machine Learning Models (2022)\n",
    "- [7] AI Ethics in Predictive Policing: From Models of Threat to an Ethics of Care (2019)\n",
    "- [8] The Global Landscape of AI Ethics Guidelines (2019). Jobin et al.\n",
    "- [9] EGTAI (European Commission’s Ethical Guidelines for Trustworthy AI)"
   ]
  },
  {
   "cell_type": "markdown",
   "metadata": {},
   "source": []
  }
 ],
 "metadata": {
  "kernelspec": {
   "display_name": "base",
   "language": "python",
   "name": "python3"
  },
  "language_info": {
   "codemirror_mode": {
    "name": "ipython",
    "version": 3
   },
   "file_extension": ".py",
   "mimetype": "text/x-python",
   "name": "python",
   "nbconvert_exporter": "python",
   "pygments_lexer": "ipython3",
   "version": "3.12.3"
  }
 },
 "nbformat": 4,
 "nbformat_minor": 2
}
